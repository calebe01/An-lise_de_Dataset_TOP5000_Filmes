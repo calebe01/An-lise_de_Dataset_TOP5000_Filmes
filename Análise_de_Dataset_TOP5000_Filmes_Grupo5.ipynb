{
  "nbformat": 4,
  "nbformat_minor": 0,
  "metadata": {
    "colab": {
      "provenance": [],
      "authorship_tag": "ABX9TyMvR4i6zjbN3/JuHgFH8QNm",
      "include_colab_link": true
    },
    "kernelspec": {
      "name": "python3",
      "display_name": "Python 3"
    },
    "language_info": {
      "name": "python"
    }
  },
  "cells": [
    {
      "cell_type": "markdown",
      "metadata": {
        "id": "view-in-github",
        "colab_type": "text"
      },
      "source": [
        "<a href=\"https://colab.research.google.com/github/calebe01/An-lise_de_Dataset_TOP5000_Filmes/blob/main/An%C3%A1lise_de_Dataset_TOP5000_Filmes_Grupo5.ipynb\" target=\"_parent\"><img src=\"https://colab.research.google.com/assets/colab-badge.svg\" alt=\"Open In Colab\"/></a>"
      ]
    },
    {
      "cell_type": "markdown",
      "source": [
        "# Análise do Dataset **Top 5000** filmes do IMDB"
      ],
      "metadata": {
        "id": "S3nbXoL17hJ8"
      }
    },
    {
      "cell_type": "markdown",
      "source": [
        "## Grupo 5\n",
        "\n",
        "Calebe de Paulo Silva Nobrega,\n",
        "Gabriel Victor Oliveira Santiago,\n",
        "Julliana Rodrigues Franca,\n",
        "Jose Valberto de Sousa Junior,\n",
        "Jennifer de Sousa,\n",
        "Maria Angela da Silva,\n",
        "Rafael Vinicius Laurentino de Sales,"
      ],
      "metadata": {
        "id": "sPHtF8H6A-3K"
      }
    },
    {
      "cell_type": "markdown",
      "source": [
        "## Introdução"
      ],
      "metadata": {
        "id": "J8ZTxpa2wcbD"
      }
    },
    {
      "cell_type": "markdown",
      "source": [
        "### Objetivo do trabalho\n",
        "\n",
        "Este trabalho tem como objetivo principal analisar o dataset IMDb Top 5000 Movies para extrair insights sobre as características dos filmes mais bem avaliados pela crítica e pelo público."
      ],
      "metadata": {
        "id": "8Rch_d9VxSPM"
      }
    },
    {
      "cell_type": "markdown",
      "source": [
        "### Fonte dos dados\n",
        "\n",
        "O Dataset foi obtido no Kaggle:                                                    \n",
        "🔗 **IMDB** Top Filmes Dataset - [LINK](https://www.kaggle.com/datasets/tiagoadrianunes/imdb-top-5000-movies)\n",
        "OBS: ao baixar renomear para \"filmes.csv\"\n",
        "\n",
        "Caso queira tambem pode baixar o csv pelo link do git [LINK](https://https://raw.githubusercontent.com/TiagoAdriaNunes/imdb_top_5000/main/app/data/results_with_crew.csv)                                \n",
        "\n",
        "Descrição do  Dataset: Contém 5000 Filmes e Possui colunas como:\n",
        "                              \n",
        "```\n",
        "nome,classificação,gênero,ano,lançamento,pontuação,votos,diretor,roteirista,estrela,país,orçamento,receita,empresa,duração\n",
        "\n",
        "```        \n",
        "---\n",
        "\n",
        "\n"
      ],
      "metadata": {
        "id": "tnuXB_ABx8Tv"
      }
    },
    {
      "cell_type": "markdown",
      "source": [
        "## Primeiras impressões\n"
      ],
      "metadata": {
        "id": "ca2LD70a0q7N"
      }
    },
    {
      "cell_type": "code",
      "source": [
        "# @title Codigo de importação\n",
        "\n",
        "import pandas as pd\n",
        "import seaborn as sns\n",
        "import numpy as np\n",
        "\n",
        "# Carregar o dataset\n",
        "df_filmes = pd.read_csv(\"/content/filmes.csv\")"
      ],
      "metadata": {
        "id": "NZN6hRfO0wOA",
        "cellView": "form"
      },
      "execution_count": 25,
      "outputs": []
    },
    {
      "cell_type": "code",
      "source": [
        "# @title Exibição do DataFrame\n",
        "print(df_filmes)"
      ],
      "metadata": {
        "collapsed": true,
        "id": "jDhdwTeG5DZe",
        "cellView": "form"
      },
      "execution_count": null,
      "outputs": []
    },
    {
      "cell_type": "code",
      "source": [
        "# @title Exibição do DataFrame em HTML (somente em jupyter)\n",
        "# melhor de exibir as informações\n",
        "df_filmes"
      ],
      "metadata": {
        "id": "pCzpyPSQ9hzH",
        "collapsed": true,
        "cellView": "form"
      },
      "execution_count": null,
      "outputs": []
    },
    {
      "cell_type": "markdown",
      "source": [
        "# Métodos para **visualizar** e **entender** os dados\n",
        "\n",
        "Aqui vamos analisar alguns métodos agora da biblioteca Pandas para visualização e melhor entendimento dos dados em um DataFrame.\n",
        "\n",
        "**Estrutura geral do DataFrame**"
      ],
      "metadata": {
        "id": "_Tuuqjw6IKXf"
      }
    },
    {
      "cell_type": "code",
      "source": [
        "# @title HEAD\n",
        "\n",
        "# Visualizar os cinco primeiros itens do DataFrame nao se coloca nada no ()\n",
        "\n",
        "# ao colocar um numero ele vai puxar ate ele ou seja\n",
        "# se colocar df_filmes.head(1) vai mostrar somente o 1 do dataset\n",
        "# se colocar df_filmes.head(10) vai mostrar ate o id 10 do dataset\n",
        "\n",
        "df_filmes.head(10)\n",
        "\n"
      ],
      "metadata": {
        "cellView": "form",
        "id": "ieTFWbMCIWZ_",
        "collapsed": true
      },
      "execution_count": null,
      "outputs": []
    },
    {
      "cell_type": "code",
      "source": [
        "# @title Tail\n",
        "\n",
        "# Tails é a mesma coisa do head mas inves de puxar pelo começo do dataset\n",
        "# ele vai puxar por ultimo\n",
        "\n",
        "df_filmes.tail(10)"
      ],
      "metadata": {
        "cellView": "form",
        "id": "8AQq2ePLMtC4"
      },
      "execution_count": null,
      "outputs": []
    },
    {
      "cell_type": "code",
      "source": [
        "# @title SAMPLE\n",
        "\n",
        "# Visualizar uma linha (amostra) aleatória do DataFrame\n",
        "# Se colocar df_filmes.sample(5) vai mostrar 5 linhas aleatórias do DataFrame\n",
        "df_filmes.sample()\n",
        "\n"
      ],
      "metadata": {
        "id": "bhfS6VnStI1y"
      },
      "execution_count": null,
      "outputs": []
    },
    {
      "cell_type": "code",
      "source": [
        "# @title SHAPE & INDEX\n",
        "# Visualizar quantidade de linhas e colunas do DataFrame\n",
        "print(df_filmes.shape)\n",
        "# Visualizar os índices do DataFrame\n",
        "print(df_filmes.index)"
      ],
      "metadata": {
        "cellView": "form",
        "id": "E3dWP92auNI_"
      },
      "execution_count": null,
      "outputs": []
    },
    {
      "cell_type": "markdown",
      "source": [
        "# Informações sobre **colunas, linhas e tipos** de dados do DataFrame"
      ],
      "metadata": {
        "id": "VvA_HgSpvHZu"
      }
    },
    {
      "cell_type": "code",
      "source": [
        "# @title Informações do Dataset\n",
        "\n",
        "# Mostra o nome das colunas, o índice de cada coluna, a quantidade de valores não nulos e o tipo de cada coluna\n",
        "\n",
        "print(\"IMDb Top 5000 Movies\")\n",
        "\n",
        "print()\n",
        "\n",
        "df_filmes.info();\n",
        "\n",
        "print()\n",
        "print(\"Nessa Visualizacao nos vemos que o nome das colunas nao esta muito legal,\")\n",
        "print(\"Então vamos renomear ela a seguir.\")\n"
      ],
      "metadata": {
        "id": "aJEOppOzLk_E",
        "cellView": "form"
      },
      "execution_count": null,
      "outputs": []
    },
    {
      "cell_type": "code",
      "source": [
        "# @title Primeiro vamos analisar somente as colunas\n",
        "# Mostra o nome das colunas\n",
        "df_filmes.columns"
      ],
      "metadata": {
        "id": "1K3JtrtuzKI6",
        "cellView": "form"
      },
      "execution_count": null,
      "outputs": []
    },
    {
      "cell_type": "code",
      "source": [
        "# @title Renomeando as colunas\n",
        "\n",
        "# Renomeando as colunas para Português\n",
        "df_filmes.rename(columns={\n",
        "    'tconst': 'ID_IMDb',\n",
        "    'primaryTitle': 'Titulo_Principal',\n",
        "    'startYear': 'Ano_Lancamento',\n",
        "    'rank': 'Classificacao',\n",
        "    'averageRating': 'Avaliacao_Media',\n",
        "    'numVotes': 'Total_Votos',\n",
        "    'runtimeMinutes': 'Duracao_Minutos',\n",
        "    'directors': 'Diretores',\n",
        "    'writers': 'Roteiristas',\n",
        "    'genres': 'Generos',\n",
        "    'IMDbLink': 'Link_IMDb',\n",
        "    'Title_IMDb_Link': 'Link_Titulo_IMDb'\n",
        "}, inplace=True)\n"
      ],
      "metadata": {
        "id": "dRtdOWcjzoHh",
        "cellView": "form"
      },
      "execution_count": 35,
      "outputs": []
    },
    {
      "cell_type": "code",
      "source": [
        "# @title Colunas Atualizadas\n",
        "\n",
        "print(\"Apois essa atualizacao, voce pode voltar e rodar o dataset inteiro para ve melhor todas as informacoes\")\n",
        "print()\n",
        "df_filmes.columns\n"
      ],
      "metadata": {
        "id": "P1u3IZBr0Oyj",
        "cellView": "form"
      },
      "execution_count": null,
      "outputs": []
    },
    {
      "cell_type": "code",
      "source": [
        "# @title Tipo de cada Coluna\n",
        "\n",
        "# Mostra o nome das colunas e o tipo de cada coluna\n",
        "df_filmes.dtypes"
      ],
      "metadata": {
        "id": "tS_UtF8T0uqz",
        "cellView": "form"
      },
      "execution_count": null,
      "outputs": []
    },
    {
      "cell_type": "markdown",
      "source": [
        "# Verificando a **consistencia** dos dados\n",
        "\n",
        "Iremos ver alguns métodos para verificar a consistência dos dados, e corrigí-los se necessário."
      ],
      "metadata": {
        "id": "Gl9e6wq72x__"
      }
    },
    {
      "cell_type": "code",
      "source": [
        "# @title Valores Duplicados\n",
        "# Verificação de valores duplicados\n",
        "duplicados = df_filmes[df_filmes.duplicated(keep=False)]\n",
        "\n",
        "if duplicados.empty:\n",
        "    print('Não há valores duplicados no dataset ')\n",
        "else:\n",
        "    print(duplicados)\n",
        "    print('Total de registros duplicados: ', len(duplicados))"
      ],
      "metadata": {
        "id": "ZRJaQ7KYcnTH",
        "cellView": "form"
      },
      "execution_count": null,
      "outputs": []
    },
    {
      "cell_type": "markdown",
      "source": [
        "### Valores Nulos"
      ],
      "metadata": {
        "id": "TG6FIxFPzcae"
      }
    },
    {
      "cell_type": "code",
      "source": [
        "# Verificar valores nulos no DataFrame\n",
        "valores_nulos = df_filmes.isnull().sum()\n",
        "\n",
        "if valores_nulos.sum() == 0:\n",
        "    print(' Não há valores nulos no dataset\\n')\n",
        "else:\n",
        "    print(' Valores nulos encontrados por coluna:\\n')\n",
        "    print(valores_nulos[valores_nulos > 0])  # Mostra apenas colunas com valores nulos\n",
        "    print(f'Total de valores nulos no dataset: {valores_nulos.sum()}')"
      ],
      "metadata": {
        "id": "jQpgqzDNzhiF",
        "colab": {
          "base_uri": "https://localhost:8080/"
        },
        "outputId": "574f4301-a6e1-45d6-9358-d7389aae14fe"
      },
      "execution_count": 43,
      "outputs": [
        {
          "output_type": "stream",
          "name": "stdout",
          "text": [
            " Não há valores nulos no dataset\n",
            "\n"
          ]
        }
      ]
    },
    {
      "cell_type": "code",
      "source": [
        "# @title Filmes sem Roteiristas (com verificação de nulos)\n",
        "\n",
        "# Verificar se existem valores nulos na coluna 'Roteiristas'\n",
        "roteiristas_nulos = df_filmes['Roteiristas'].isna().sum()\n",
        "\n",
        "if roteiristas_nulos > 0:\n",
        "    print(f' Encontrados {roteiristas_nulos} filmes sem roteiristas:')\n",
        "    print('(Em documentários, a escrita é muitas vezes colaborativa ou não creditada)')\n",
        "    print()\n",
        "\n",
        "    # Mostrar os filmes sem roteirista\n",
        "    filmes_sem_roteirista = df_filmes[df_filmes['Roteiristas'].isna()]\n",
        "    display(filmes_sem_roteirista[['Titulo_Principal', 'Generos']])\n",
        "else:\n",
        "    print('Não há valores nulos na coluna Roteiristas.')\n",
        "    print('Todos os filmes possuem roteiristas registrados.')"
      ],
      "metadata": {
        "id": "spylafCh0G4o",
        "cellView": "form"
      },
      "execution_count": null,
      "outputs": []
    },
    {
      "cell_type": "code",
      "source": [
        "# @title Substituindo valores nulos por \"Não Creditado\"\n",
        "df_filmes['Roteiristas'] = df_filmes['Roteiristas'].fillna(\"Não Creditado\")\n",
        "\n",
        "# Verificar se ainda existem nulos\n",
        "print(f\"Valores nulos restantes: {df_filmes['Roteiristas'].isnull().sum()}\")"
      ],
      "metadata": {
        "colab": {
          "base_uri": "https://localhost:8080/"
        },
        "id": "LwS9jKK7MeMu",
        "outputId": "664797d5-b834-49d8-cb23-7d174485b9f8",
        "cellView": "form"
      },
      "execution_count": 42,
      "outputs": [
        {
          "output_type": "stream",
          "name": "stdout",
          "text": [
            "Valores nulos restantes: 0\n"
          ]
        }
      ]
    },
    {
      "cell_type": "markdown",
      "source": [
        "# Verificação de valores únicos e **Operações em cima de subconjuntos no Dataset**"
      ],
      "metadata": {
        "id": "pkDfUvfffqSo"
      }
    },
    {
      "cell_type": "code",
      "source": [
        "# @title  Verificação de valores únicos por coluna\n",
        "# Valores Unicos por coluna\n",
        "print('Valores únicos por coluna: ')\n",
        "for col in df_filmes.columns:\n",
        "  print(f'{col}: {df_filmes[col].nunique()} valores unicos')\n"
      ],
      "metadata": {
        "id": "Oe3Y0t6Ahz9Z",
        "cellView": "form"
      },
      "execution_count": null,
      "outputs": []
    },
    {
      "cell_type": "code",
      "source": [
        "# @title Criar 2 DataFrames com subset de colunas + amostras aleatórias\n",
        "\n",
        "# 1. Primeiro definimos as colunas de interesse (SUBSET)\n",
        "colunas_selecionadas = [\n",
        "    'Titulo_Principal',\n",
        "    'Ano_Lancamento',\n",
        "    'Avaliacao_Media',\n",
        "    'Generos',\n",
        "    'Diretores'\n",
        "]\n",
        "\n",
        "# 2. Criamos um subset do DataFrame original\n",
        "df_subset = df_filmes[colunas_selecionadas]\n",
        "\n",
        "# 3. Geramos as duas amostras aleatórias SEM SOBREPOSIÇÃO\n",
        "df_amostra1 = df_subset.sample(n=100, random_state=42)\n",
        "df_amostra2 = df_subset.drop(df_amostra1.index).sample(n=100, random_state=123)\n",
        "\n",
        "# 4. Verificação\n",
        "print(\"Colunas selecionadas no subset:\", colunas_selecionadas)\n",
        "print(f\"Amostra 1: {len(df_amostra1)} filmes | Amostra 2: {len(df_amostra2)} filmes\")\n",
        "print(\"Exemplo da Amostra 1: \")\n",
        "display(df_amostra1.head(2))\n",
        "print(\"Exemplo da Amostra 2: \")\n",
        "display(df_amostra2.head(2))"
      ],
      "metadata": {
        "colab": {
          "base_uri": "https://localhost:8080/",
          "height": 277
        },
        "cellView": "form",
        "id": "RG467yGqTqvY",
        "outputId": "981d24f5-9110-40de-b658-514e6d057bc9"
      },
      "execution_count": 53,
      "outputs": [
        {
          "output_type": "stream",
          "name": "stdout",
          "text": [
            "Colunas selecionadas no subset: ['Titulo_Principal', 'Ano_Lancamento', 'Avaliacao_Media', 'Generos', 'Diretores']\n",
            "Amostra 1: 100 filmes | Amostra 2: 100 filmes\n",
            "Exemplo da Amostra 1: \n"
          ]
        },
        {
          "output_type": "display_data",
          "data": {
            "text/plain": [
              "       Titulo_Principal  Ano_Lancamento  Avaliacao_Media  \\\n",
              "1501  Menace II Society            1993              7.5   \n",
              "2586        Soul Surfer            2011              7.0   \n",
              "\n",
              "                       Generos                    Diretores  \n",
              "1501    Crime, Drama, Thriller  Albert Hughes, Allen Hughes  \n",
              "2586  Biography, Drama, Family                Sean McNamara  "
            ],
            "text/html": [
              "\n",
              "  <div id=\"df-eda1acaa-8e3f-4e22-bcf2-219478ee2809\" class=\"colab-df-container\">\n",
              "    <div>\n",
              "<style scoped>\n",
              "    .dataframe tbody tr th:only-of-type {\n",
              "        vertical-align: middle;\n",
              "    }\n",
              "\n",
              "    .dataframe tbody tr th {\n",
              "        vertical-align: top;\n",
              "    }\n",
              "\n",
              "    .dataframe thead th {\n",
              "        text-align: right;\n",
              "    }\n",
              "</style>\n",
              "<table border=\"1\" class=\"dataframe\">\n",
              "  <thead>\n",
              "    <tr style=\"text-align: right;\">\n",
              "      <th></th>\n",
              "      <th>Titulo_Principal</th>\n",
              "      <th>Ano_Lancamento</th>\n",
              "      <th>Avaliacao_Media</th>\n",
              "      <th>Generos</th>\n",
              "      <th>Diretores</th>\n",
              "    </tr>\n",
              "  </thead>\n",
              "  <tbody>\n",
              "    <tr>\n",
              "      <th>1501</th>\n",
              "      <td>Menace II Society</td>\n",
              "      <td>1993</td>\n",
              "      <td>7.5</td>\n",
              "      <td>Crime, Drama, Thriller</td>\n",
              "      <td>Albert Hughes, Allen Hughes</td>\n",
              "    </tr>\n",
              "    <tr>\n",
              "      <th>2586</th>\n",
              "      <td>Soul Surfer</td>\n",
              "      <td>2011</td>\n",
              "      <td>7.0</td>\n",
              "      <td>Biography, Drama, Family</td>\n",
              "      <td>Sean McNamara</td>\n",
              "    </tr>\n",
              "  </tbody>\n",
              "</table>\n",
              "</div>\n",
              "    <div class=\"colab-df-buttons\">\n",
              "\n",
              "  <div class=\"colab-df-container\">\n",
              "    <button class=\"colab-df-convert\" onclick=\"convertToInteractive('df-eda1acaa-8e3f-4e22-bcf2-219478ee2809')\"\n",
              "            title=\"Convert this dataframe to an interactive table.\"\n",
              "            style=\"display:none;\">\n",
              "\n",
              "  <svg xmlns=\"http://www.w3.org/2000/svg\" height=\"24px\" viewBox=\"0 -960 960 960\">\n",
              "    <path d=\"M120-120v-720h720v720H120Zm60-500h600v-160H180v160Zm220 220h160v-160H400v160Zm0 220h160v-160H400v160ZM180-400h160v-160H180v160Zm440 0h160v-160H620v160ZM180-180h160v-160H180v160Zm440 0h160v-160H620v160Z\"/>\n",
              "  </svg>\n",
              "    </button>\n",
              "\n",
              "  <style>\n",
              "    .colab-df-container {\n",
              "      display:flex;\n",
              "      gap: 12px;\n",
              "    }\n",
              "\n",
              "    .colab-df-convert {\n",
              "      background-color: #E8F0FE;\n",
              "      border: none;\n",
              "      border-radius: 50%;\n",
              "      cursor: pointer;\n",
              "      display: none;\n",
              "      fill: #1967D2;\n",
              "      height: 32px;\n",
              "      padding: 0 0 0 0;\n",
              "      width: 32px;\n",
              "    }\n",
              "\n",
              "    .colab-df-convert:hover {\n",
              "      background-color: #E2EBFA;\n",
              "      box-shadow: 0px 1px 2px rgba(60, 64, 67, 0.3), 0px 1px 3px 1px rgba(60, 64, 67, 0.15);\n",
              "      fill: #174EA6;\n",
              "    }\n",
              "\n",
              "    .colab-df-buttons div {\n",
              "      margin-bottom: 4px;\n",
              "    }\n",
              "\n",
              "    [theme=dark] .colab-df-convert {\n",
              "      background-color: #3B4455;\n",
              "      fill: #D2E3FC;\n",
              "    }\n",
              "\n",
              "    [theme=dark] .colab-df-convert:hover {\n",
              "      background-color: #434B5C;\n",
              "      box-shadow: 0px 1px 3px 1px rgba(0, 0, 0, 0.15);\n",
              "      filter: drop-shadow(0px 1px 2px rgba(0, 0, 0, 0.3));\n",
              "      fill: #FFFFFF;\n",
              "    }\n",
              "  </style>\n",
              "\n",
              "    <script>\n",
              "      const buttonEl =\n",
              "        document.querySelector('#df-eda1acaa-8e3f-4e22-bcf2-219478ee2809 button.colab-df-convert');\n",
              "      buttonEl.style.display =\n",
              "        google.colab.kernel.accessAllowed ? 'block' : 'none';\n",
              "\n",
              "      async function convertToInteractive(key) {\n",
              "        const element = document.querySelector('#df-eda1acaa-8e3f-4e22-bcf2-219478ee2809');\n",
              "        const dataTable =\n",
              "          await google.colab.kernel.invokeFunction('convertToInteractive',\n",
              "                                                    [key], {});\n",
              "        if (!dataTable) return;\n",
              "\n",
              "        const docLinkHtml = 'Like what you see? Visit the ' +\n",
              "          '<a target=\"_blank\" href=https://colab.research.google.com/notebooks/data_table.ipynb>data table notebook</a>'\n",
              "          + ' to learn more about interactive tables.';\n",
              "        element.innerHTML = '';\n",
              "        dataTable['output_type'] = 'display_data';\n",
              "        await google.colab.output.renderOutput(dataTable, element);\n",
              "        const docLink = document.createElement('div');\n",
              "        docLink.innerHTML = docLinkHtml;\n",
              "        element.appendChild(docLink);\n",
              "      }\n",
              "    </script>\n",
              "  </div>\n",
              "\n",
              "\n",
              "    <div id=\"df-edabbbe0-0672-4479-a02b-822e13334150\">\n",
              "      <button class=\"colab-df-quickchart\" onclick=\"quickchart('df-edabbbe0-0672-4479-a02b-822e13334150')\"\n",
              "                title=\"Suggest charts\"\n",
              "                style=\"display:none;\">\n",
              "\n",
              "<svg xmlns=\"http://www.w3.org/2000/svg\" height=\"24px\"viewBox=\"0 0 24 24\"\n",
              "     width=\"24px\">\n",
              "    <g>\n",
              "        <path d=\"M19 3H5c-1.1 0-2 .9-2 2v14c0 1.1.9 2 2 2h14c1.1 0 2-.9 2-2V5c0-1.1-.9-2-2-2zM9 17H7v-7h2v7zm4 0h-2V7h2v10zm4 0h-2v-4h2v4z\"/>\n",
              "    </g>\n",
              "</svg>\n",
              "      </button>\n",
              "\n",
              "<style>\n",
              "  .colab-df-quickchart {\n",
              "      --bg-color: #E8F0FE;\n",
              "      --fill-color: #1967D2;\n",
              "      --hover-bg-color: #E2EBFA;\n",
              "      --hover-fill-color: #174EA6;\n",
              "      --disabled-fill-color: #AAA;\n",
              "      --disabled-bg-color: #DDD;\n",
              "  }\n",
              "\n",
              "  [theme=dark] .colab-df-quickchart {\n",
              "      --bg-color: #3B4455;\n",
              "      --fill-color: #D2E3FC;\n",
              "      --hover-bg-color: #434B5C;\n",
              "      --hover-fill-color: #FFFFFF;\n",
              "      --disabled-bg-color: #3B4455;\n",
              "      --disabled-fill-color: #666;\n",
              "  }\n",
              "\n",
              "  .colab-df-quickchart {\n",
              "    background-color: var(--bg-color);\n",
              "    border: none;\n",
              "    border-radius: 50%;\n",
              "    cursor: pointer;\n",
              "    display: none;\n",
              "    fill: var(--fill-color);\n",
              "    height: 32px;\n",
              "    padding: 0;\n",
              "    width: 32px;\n",
              "  }\n",
              "\n",
              "  .colab-df-quickchart:hover {\n",
              "    background-color: var(--hover-bg-color);\n",
              "    box-shadow: 0 1px 2px rgba(60, 64, 67, 0.3), 0 1px 3px 1px rgba(60, 64, 67, 0.15);\n",
              "    fill: var(--button-hover-fill-color);\n",
              "  }\n",
              "\n",
              "  .colab-df-quickchart-complete:disabled,\n",
              "  .colab-df-quickchart-complete:disabled:hover {\n",
              "    background-color: var(--disabled-bg-color);\n",
              "    fill: var(--disabled-fill-color);\n",
              "    box-shadow: none;\n",
              "  }\n",
              "\n",
              "  .colab-df-spinner {\n",
              "    border: 2px solid var(--fill-color);\n",
              "    border-color: transparent;\n",
              "    border-bottom-color: var(--fill-color);\n",
              "    animation:\n",
              "      spin 1s steps(1) infinite;\n",
              "  }\n",
              "\n",
              "  @keyframes spin {\n",
              "    0% {\n",
              "      border-color: transparent;\n",
              "      border-bottom-color: var(--fill-color);\n",
              "      border-left-color: var(--fill-color);\n",
              "    }\n",
              "    20% {\n",
              "      border-color: transparent;\n",
              "      border-left-color: var(--fill-color);\n",
              "      border-top-color: var(--fill-color);\n",
              "    }\n",
              "    30% {\n",
              "      border-color: transparent;\n",
              "      border-left-color: var(--fill-color);\n",
              "      border-top-color: var(--fill-color);\n",
              "      border-right-color: var(--fill-color);\n",
              "    }\n",
              "    40% {\n",
              "      border-color: transparent;\n",
              "      border-right-color: var(--fill-color);\n",
              "      border-top-color: var(--fill-color);\n",
              "    }\n",
              "    60% {\n",
              "      border-color: transparent;\n",
              "      border-right-color: var(--fill-color);\n",
              "    }\n",
              "    80% {\n",
              "      border-color: transparent;\n",
              "      border-right-color: var(--fill-color);\n",
              "      border-bottom-color: var(--fill-color);\n",
              "    }\n",
              "    90% {\n",
              "      border-color: transparent;\n",
              "      border-bottom-color: var(--fill-color);\n",
              "    }\n",
              "  }\n",
              "</style>\n",
              "\n",
              "      <script>\n",
              "        async function quickchart(key) {\n",
              "          const quickchartButtonEl =\n",
              "            document.querySelector('#' + key + ' button');\n",
              "          quickchartButtonEl.disabled = true;  // To prevent multiple clicks.\n",
              "          quickchartButtonEl.classList.add('colab-df-spinner');\n",
              "          try {\n",
              "            const charts = await google.colab.kernel.invokeFunction(\n",
              "                'suggestCharts', [key], {});\n",
              "          } catch (error) {\n",
              "            console.error('Error during call to suggestCharts:', error);\n",
              "          }\n",
              "          quickchartButtonEl.classList.remove('colab-df-spinner');\n",
              "          quickchartButtonEl.classList.add('colab-df-quickchart-complete');\n",
              "        }\n",
              "        (() => {\n",
              "          let quickchartButtonEl =\n",
              "            document.querySelector('#df-edabbbe0-0672-4479-a02b-822e13334150 button');\n",
              "          quickchartButtonEl.style.display =\n",
              "            google.colab.kernel.accessAllowed ? 'block' : 'none';\n",
              "        })();\n",
              "      </script>\n",
              "    </div>\n",
              "\n",
              "    </div>\n",
              "  </div>\n"
            ],
            "application/vnd.google.colaboratory.intrinsic+json": {
              "type": "dataframe",
              "summary": "{\n  \"name\": \"display(df_amostra2\",\n  \"rows\": 2,\n  \"fields\": [\n    {\n      \"column\": \"Titulo_Principal\",\n      \"properties\": {\n        \"dtype\": \"string\",\n        \"num_unique_values\": 2,\n        \"samples\": [\n          \"Soul Surfer\",\n          \"Menace II Society\"\n        ],\n        \"semantic_type\": \"\",\n        \"description\": \"\"\n      }\n    },\n    {\n      \"column\": \"Ano_Lancamento\",\n      \"properties\": {\n        \"dtype\": \"number\",\n        \"std\": 12,\n        \"min\": 1993,\n        \"max\": 2011,\n        \"num_unique_values\": 2,\n        \"samples\": [\n          2011,\n          1993\n        ],\n        \"semantic_type\": \"\",\n        \"description\": \"\"\n      }\n    },\n    {\n      \"column\": \"Avaliacao_Media\",\n      \"properties\": {\n        \"dtype\": \"number\",\n        \"std\": 0.3535533905932738,\n        \"min\": 7.0,\n        \"max\": 7.5,\n        \"num_unique_values\": 2,\n        \"samples\": [\n          7.0,\n          7.5\n        ],\n        \"semantic_type\": \"\",\n        \"description\": \"\"\n      }\n    },\n    {\n      \"column\": \"Generos\",\n      \"properties\": {\n        \"dtype\": \"string\",\n        \"num_unique_values\": 2,\n        \"samples\": [\n          \"Biography, Drama, Family\",\n          \"Crime, Drama, Thriller\"\n        ],\n        \"semantic_type\": \"\",\n        \"description\": \"\"\n      }\n    },\n    {\n      \"column\": \"Diretores\",\n      \"properties\": {\n        \"dtype\": \"string\",\n        \"num_unique_values\": 2,\n        \"samples\": [\n          \"Sean McNamara\",\n          \"Albert Hughes, Allen Hughes\"\n        ],\n        \"semantic_type\": \"\",\n        \"description\": \"\"\n      }\n    }\n  ]\n}"
            }
          },
          "metadata": {}
        },
        {
          "output_type": "stream",
          "name": "stdout",
          "text": [
            "Exemplo da Amostra 2: \n"
          ]
        },
        {
          "output_type": "display_data",
          "data": {
            "text/plain": [
              "     Titulo_Principal  Ano_Lancamento  Avaliacao_Media  \\\n",
              "2768         Tenebrae            1982              7.0   \n",
              "2492        Tommy Boy            1995              7.1   \n",
              "\n",
              "                        Generos      Diretores  \n",
              "2768  Horror, Mystery, Thriller  Dario Argento  \n",
              "2492          Adventure, Comedy    Peter Segal  "
            ],
            "text/html": [
              "\n",
              "  <div id=\"df-e92a9bad-ad47-4978-a73e-b3f76238491e\" class=\"colab-df-container\">\n",
              "    <div>\n",
              "<style scoped>\n",
              "    .dataframe tbody tr th:only-of-type {\n",
              "        vertical-align: middle;\n",
              "    }\n",
              "\n",
              "    .dataframe tbody tr th {\n",
              "        vertical-align: top;\n",
              "    }\n",
              "\n",
              "    .dataframe thead th {\n",
              "        text-align: right;\n",
              "    }\n",
              "</style>\n",
              "<table border=\"1\" class=\"dataframe\">\n",
              "  <thead>\n",
              "    <tr style=\"text-align: right;\">\n",
              "      <th></th>\n",
              "      <th>Titulo_Principal</th>\n",
              "      <th>Ano_Lancamento</th>\n",
              "      <th>Avaliacao_Media</th>\n",
              "      <th>Generos</th>\n",
              "      <th>Diretores</th>\n",
              "    </tr>\n",
              "  </thead>\n",
              "  <tbody>\n",
              "    <tr>\n",
              "      <th>2768</th>\n",
              "      <td>Tenebrae</td>\n",
              "      <td>1982</td>\n",
              "      <td>7.0</td>\n",
              "      <td>Horror, Mystery, Thriller</td>\n",
              "      <td>Dario Argento</td>\n",
              "    </tr>\n",
              "    <tr>\n",
              "      <th>2492</th>\n",
              "      <td>Tommy Boy</td>\n",
              "      <td>1995</td>\n",
              "      <td>7.1</td>\n",
              "      <td>Adventure, Comedy</td>\n",
              "      <td>Peter Segal</td>\n",
              "    </tr>\n",
              "  </tbody>\n",
              "</table>\n",
              "</div>\n",
              "    <div class=\"colab-df-buttons\">\n",
              "\n",
              "  <div class=\"colab-df-container\">\n",
              "    <button class=\"colab-df-convert\" onclick=\"convertToInteractive('df-e92a9bad-ad47-4978-a73e-b3f76238491e')\"\n",
              "            title=\"Convert this dataframe to an interactive table.\"\n",
              "            style=\"display:none;\">\n",
              "\n",
              "  <svg xmlns=\"http://www.w3.org/2000/svg\" height=\"24px\" viewBox=\"0 -960 960 960\">\n",
              "    <path d=\"M120-120v-720h720v720H120Zm60-500h600v-160H180v160Zm220 220h160v-160H400v160Zm0 220h160v-160H400v160ZM180-400h160v-160H180v160Zm440 0h160v-160H620v160ZM180-180h160v-160H180v160Zm440 0h160v-160H620v160Z\"/>\n",
              "  </svg>\n",
              "    </button>\n",
              "\n",
              "  <style>\n",
              "    .colab-df-container {\n",
              "      display:flex;\n",
              "      gap: 12px;\n",
              "    }\n",
              "\n",
              "    .colab-df-convert {\n",
              "      background-color: #E8F0FE;\n",
              "      border: none;\n",
              "      border-radius: 50%;\n",
              "      cursor: pointer;\n",
              "      display: none;\n",
              "      fill: #1967D2;\n",
              "      height: 32px;\n",
              "      padding: 0 0 0 0;\n",
              "      width: 32px;\n",
              "    }\n",
              "\n",
              "    .colab-df-convert:hover {\n",
              "      background-color: #E2EBFA;\n",
              "      box-shadow: 0px 1px 2px rgba(60, 64, 67, 0.3), 0px 1px 3px 1px rgba(60, 64, 67, 0.15);\n",
              "      fill: #174EA6;\n",
              "    }\n",
              "\n",
              "    .colab-df-buttons div {\n",
              "      margin-bottom: 4px;\n",
              "    }\n",
              "\n",
              "    [theme=dark] .colab-df-convert {\n",
              "      background-color: #3B4455;\n",
              "      fill: #D2E3FC;\n",
              "    }\n",
              "\n",
              "    [theme=dark] .colab-df-convert:hover {\n",
              "      background-color: #434B5C;\n",
              "      box-shadow: 0px 1px 3px 1px rgba(0, 0, 0, 0.15);\n",
              "      filter: drop-shadow(0px 1px 2px rgba(0, 0, 0, 0.3));\n",
              "      fill: #FFFFFF;\n",
              "    }\n",
              "  </style>\n",
              "\n",
              "    <script>\n",
              "      const buttonEl =\n",
              "        document.querySelector('#df-e92a9bad-ad47-4978-a73e-b3f76238491e button.colab-df-convert');\n",
              "      buttonEl.style.display =\n",
              "        google.colab.kernel.accessAllowed ? 'block' : 'none';\n",
              "\n",
              "      async function convertToInteractive(key) {\n",
              "        const element = document.querySelector('#df-e92a9bad-ad47-4978-a73e-b3f76238491e');\n",
              "        const dataTable =\n",
              "          await google.colab.kernel.invokeFunction('convertToInteractive',\n",
              "                                                    [key], {});\n",
              "        if (!dataTable) return;\n",
              "\n",
              "        const docLinkHtml = 'Like what you see? Visit the ' +\n",
              "          '<a target=\"_blank\" href=https://colab.research.google.com/notebooks/data_table.ipynb>data table notebook</a>'\n",
              "          + ' to learn more about interactive tables.';\n",
              "        element.innerHTML = '';\n",
              "        dataTable['output_type'] = 'display_data';\n",
              "        await google.colab.output.renderOutput(dataTable, element);\n",
              "        const docLink = document.createElement('div');\n",
              "        docLink.innerHTML = docLinkHtml;\n",
              "        element.appendChild(docLink);\n",
              "      }\n",
              "    </script>\n",
              "  </div>\n",
              "\n",
              "\n",
              "    <div id=\"df-7bd9f35a-b187-409c-b865-cc23ee8908dd\">\n",
              "      <button class=\"colab-df-quickchart\" onclick=\"quickchart('df-7bd9f35a-b187-409c-b865-cc23ee8908dd')\"\n",
              "                title=\"Suggest charts\"\n",
              "                style=\"display:none;\">\n",
              "\n",
              "<svg xmlns=\"http://www.w3.org/2000/svg\" height=\"24px\"viewBox=\"0 0 24 24\"\n",
              "     width=\"24px\">\n",
              "    <g>\n",
              "        <path d=\"M19 3H5c-1.1 0-2 .9-2 2v14c0 1.1.9 2 2 2h14c1.1 0 2-.9 2-2V5c0-1.1-.9-2-2-2zM9 17H7v-7h2v7zm4 0h-2V7h2v10zm4 0h-2v-4h2v4z\"/>\n",
              "    </g>\n",
              "</svg>\n",
              "      </button>\n",
              "\n",
              "<style>\n",
              "  .colab-df-quickchart {\n",
              "      --bg-color: #E8F0FE;\n",
              "      --fill-color: #1967D2;\n",
              "      --hover-bg-color: #E2EBFA;\n",
              "      --hover-fill-color: #174EA6;\n",
              "      --disabled-fill-color: #AAA;\n",
              "      --disabled-bg-color: #DDD;\n",
              "  }\n",
              "\n",
              "  [theme=dark] .colab-df-quickchart {\n",
              "      --bg-color: #3B4455;\n",
              "      --fill-color: #D2E3FC;\n",
              "      --hover-bg-color: #434B5C;\n",
              "      --hover-fill-color: #FFFFFF;\n",
              "      --disabled-bg-color: #3B4455;\n",
              "      --disabled-fill-color: #666;\n",
              "  }\n",
              "\n",
              "  .colab-df-quickchart {\n",
              "    background-color: var(--bg-color);\n",
              "    border: none;\n",
              "    border-radius: 50%;\n",
              "    cursor: pointer;\n",
              "    display: none;\n",
              "    fill: var(--fill-color);\n",
              "    height: 32px;\n",
              "    padding: 0;\n",
              "    width: 32px;\n",
              "  }\n",
              "\n",
              "  .colab-df-quickchart:hover {\n",
              "    background-color: var(--hover-bg-color);\n",
              "    box-shadow: 0 1px 2px rgba(60, 64, 67, 0.3), 0 1px 3px 1px rgba(60, 64, 67, 0.15);\n",
              "    fill: var(--button-hover-fill-color);\n",
              "  }\n",
              "\n",
              "  .colab-df-quickchart-complete:disabled,\n",
              "  .colab-df-quickchart-complete:disabled:hover {\n",
              "    background-color: var(--disabled-bg-color);\n",
              "    fill: var(--disabled-fill-color);\n",
              "    box-shadow: none;\n",
              "  }\n",
              "\n",
              "  .colab-df-spinner {\n",
              "    border: 2px solid var(--fill-color);\n",
              "    border-color: transparent;\n",
              "    border-bottom-color: var(--fill-color);\n",
              "    animation:\n",
              "      spin 1s steps(1) infinite;\n",
              "  }\n",
              "\n",
              "  @keyframes spin {\n",
              "    0% {\n",
              "      border-color: transparent;\n",
              "      border-bottom-color: var(--fill-color);\n",
              "      border-left-color: var(--fill-color);\n",
              "    }\n",
              "    20% {\n",
              "      border-color: transparent;\n",
              "      border-left-color: var(--fill-color);\n",
              "      border-top-color: var(--fill-color);\n",
              "    }\n",
              "    30% {\n",
              "      border-color: transparent;\n",
              "      border-left-color: var(--fill-color);\n",
              "      border-top-color: var(--fill-color);\n",
              "      border-right-color: var(--fill-color);\n",
              "    }\n",
              "    40% {\n",
              "      border-color: transparent;\n",
              "      border-right-color: var(--fill-color);\n",
              "      border-top-color: var(--fill-color);\n",
              "    }\n",
              "    60% {\n",
              "      border-color: transparent;\n",
              "      border-right-color: var(--fill-color);\n",
              "    }\n",
              "    80% {\n",
              "      border-color: transparent;\n",
              "      border-right-color: var(--fill-color);\n",
              "      border-bottom-color: var(--fill-color);\n",
              "    }\n",
              "    90% {\n",
              "      border-color: transparent;\n",
              "      border-bottom-color: var(--fill-color);\n",
              "    }\n",
              "  }\n",
              "</style>\n",
              "\n",
              "      <script>\n",
              "        async function quickchart(key) {\n",
              "          const quickchartButtonEl =\n",
              "            document.querySelector('#' + key + ' button');\n",
              "          quickchartButtonEl.disabled = true;  // To prevent multiple clicks.\n",
              "          quickchartButtonEl.classList.add('colab-df-spinner');\n",
              "          try {\n",
              "            const charts = await google.colab.kernel.invokeFunction(\n",
              "                'suggestCharts', [key], {});\n",
              "          } catch (error) {\n",
              "            console.error('Error during call to suggestCharts:', error);\n",
              "          }\n",
              "          quickchartButtonEl.classList.remove('colab-df-spinner');\n",
              "          quickchartButtonEl.classList.add('colab-df-quickchart-complete');\n",
              "        }\n",
              "        (() => {\n",
              "          let quickchartButtonEl =\n",
              "            document.querySelector('#df-7bd9f35a-b187-409c-b865-cc23ee8908dd button');\n",
              "          quickchartButtonEl.style.display =\n",
              "            google.colab.kernel.accessAllowed ? 'block' : 'none';\n",
              "        })();\n",
              "      </script>\n",
              "    </div>\n",
              "\n",
              "    </div>\n",
              "  </div>\n"
            ],
            "application/vnd.google.colaboratory.intrinsic+json": {
              "type": "dataframe",
              "summary": "{\n  \"name\": \"display(df_amostra2\",\n  \"rows\": 2,\n  \"fields\": [\n    {\n      \"column\": \"Titulo_Principal\",\n      \"properties\": {\n        \"dtype\": \"string\",\n        \"num_unique_values\": 2,\n        \"samples\": [\n          \"Tommy Boy\",\n          \"Tenebrae\"\n        ],\n        \"semantic_type\": \"\",\n        \"description\": \"\"\n      }\n    },\n    {\n      \"column\": \"Ano_Lancamento\",\n      \"properties\": {\n        \"dtype\": \"number\",\n        \"std\": 9,\n        \"min\": 1982,\n        \"max\": 1995,\n        \"num_unique_values\": 2,\n        \"samples\": [\n          1995,\n          1982\n        ],\n        \"semantic_type\": \"\",\n        \"description\": \"\"\n      }\n    },\n    {\n      \"column\": \"Avaliacao_Media\",\n      \"properties\": {\n        \"dtype\": \"number\",\n        \"std\": 0.0707106781186545,\n        \"min\": 7.0,\n        \"max\": 7.1,\n        \"num_unique_values\": 2,\n        \"samples\": [\n          7.1,\n          7.0\n        ],\n        \"semantic_type\": \"\",\n        \"description\": \"\"\n      }\n    },\n    {\n      \"column\": \"Generos\",\n      \"properties\": {\n        \"dtype\": \"string\",\n        \"num_unique_values\": 2,\n        \"samples\": [\n          \"Adventure, Comedy\",\n          \"Horror, Mystery, Thriller\"\n        ],\n        \"semantic_type\": \"\",\n        \"description\": \"\"\n      }\n    },\n    {\n      \"column\": \"Diretores\",\n      \"properties\": {\n        \"dtype\": \"string\",\n        \"num_unique_values\": 2,\n        \"samples\": [\n          \"Peter Segal\",\n          \"Dario Argento\"\n        ],\n        \"semantic_type\": \"\",\n        \"description\": \"\"\n      }\n    }\n  ]\n}"
            }
          },
          "metadata": {}
        }
      ]
    },
    {
      "cell_type": "code",
      "source": [
        "# @title Top 5 gêneros mais frequentes\n",
        "\n",
        "top_generos = df_filmes['Generos'].str.split(', ').explode().value_counts().head(5)\n",
        "print(\"Top 5 gêneros mais comuns: \")\n",
        "print()\n",
        "print(top_generos)"
      ],
      "metadata": {
        "id": "5W2NA7QqjOfp",
        "cellView": "form"
      },
      "execution_count": null,
      "outputs": []
    },
    {
      "cell_type": "code",
      "source": [
        "# @title Filmes por década\n",
        "\n",
        "df_filmes['Decada'] = (df_filmes['Ano_Lancamento']//10)*10\n",
        "filmes_por_decada = df_filmes.groupby('Decada').size()\n",
        "print(\" Quantidade de filmes por década: \")\n",
        "print(filmes_por_decada)"
      ],
      "metadata": {
        "id": "HSIOC7v_jXUK",
        "cellView": "form"
      },
      "execution_count": null,
      "outputs": []
    },
    {
      "cell_type": "code",
      "source": [
        "# @title Os filmes com avaliação acima de 8.5\n",
        "top_rated = df_filmes[df_filmes['Avaliacao_Media'] > 8.5]\n",
        "print(f\"{len(top_rated)} filmes com avaliação > 8.5\")\n",
        "df_filmes[df_filmes['Avaliacao_Media'] > 8.5]"
      ],
      "metadata": {
        "id": "pRWwM0Nfja8k",
        "cellView": "form"
      },
      "execution_count": null,
      "outputs": []
    },
    {
      "cell_type": "code",
      "source": [
        "# @title Diretores com mais filmes na lista\n",
        "top_diretores = df_filmes['Diretores'].value_counts().head(3)\n",
        "print(\"Top 3 diretores com mais filmes:\")\n",
        "print(top_diretores)"
      ],
      "metadata": {
        "id": "A7fLjoVIjf4E",
        "cellView": "form"
      },
      "execution_count": null,
      "outputs": []
    },
    {
      "cell_type": "code",
      "source": [
        "# @title Filme mais antigo e mais recente\n",
        "\n",
        "min_ano = df_filmes['Ano_Lancamento'].min()\n",
        "max_ano = df_filmes['Ano_Lancamento'].max()\n",
        "print(f\"Filme mais antigo: {min_ano}, Filme mais recente: {max_ano}\")"
      ],
      "metadata": {
        "colab": {
          "base_uri": "https://localhost:8080/"
        },
        "cellView": "form",
        "id": "xBNf3UPqTD6H",
        "outputId": "34c98670-0fa8-4961-80c4-f5ce62995294"
      },
      "execution_count": 52,
      "outputs": [
        {
          "output_type": "stream",
          "name": "stdout",
          "text": [
            "Filme mais antigo: 1915, Filme mais recente: 2025\n"
          ]
        }
      ]
    },
    {
      "cell_type": "code",
      "source": [
        "# @title Contagem de filmes por gênero principal\n",
        "df_filmes['Genero_Principal'] = df_filmes['Generos'].str.split(',').str[0]\n",
        "contagem_generos = df_filmes['Genero_Principal'].value_counts().sum()\n",
        "print(f\"Total de gêneros principais: {contagem_generos}\")"
      ],
      "metadata": {
        "cellView": "form",
        "id": "dJQGsZBwUVb2"
      },
      "execution_count": null,
      "outputs": []
    }
  ]
}